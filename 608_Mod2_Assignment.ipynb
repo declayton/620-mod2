{
 "cells": [
  {
   "cell_type": "markdown",
   "id": "6f9e0327-6b06-4a43-a853-d01cc3f9a5f5",
   "metadata": {},
   "source": [
    "# Web Mining and Applied NLP (44-620)\n",
    "\n",
    "## Python Notebooks, Basics, and Data Structures\n",
    "\n",
    "### Student Name: Deanna Clayton\n",
    "\n",
    "Perform the tasks described in the Markdown cells below.  When you have completed the assignment make sure your code cells have all been run (and have output beneath them) and ensure you have committed and pushed ALL of your changes to your assignment repository.\n",
    "\n",
    "Every question that requires you to write code will have a code cell underneath it; you may either write your entire solution in that cell or write it in a python file (`.py`), then import and run the appropriate code to answer the question.\n",
    "\n",
    "Do not use external modules (`math`, etc) for this assignment unless you are explicitly instructed to, though you may use built in python functions (`min`, `max`, etc) as you wish."
   ]
  },
  {
   "cell_type": "markdown",
   "id": "c04bfe5d-fe66-461e-a5c1-91fa4470edd1",
   "metadata": {},
   "source": [
    "1. Modify the Markdown cell above to put your name after \"Student Name:\"; you will be expected to do this in all assignments presented in this format for this class."
   ]
  },
  {
   "cell_type": "markdown",
   "id": "aad51fc3-3424-43ba-8395-96c4cac8ab9c",
   "metadata": {},
   "source": [
    "2. Write code that divides any two numbers, stores the result in a variable, and prints the result with an appropriate label."
   ]
  },
  {
   "cell_type": "code",
   "execution_count": 9,
   "id": "24601612-e205-4d95-b920-cbf568be85c9",
   "metadata": {},
   "outputs": [],
   "source": [
    "def divide_two_numbers(x,y):\n",
    "    z = x / y\n",
    "    print (\"x divided by y is\", z)"
   ]
  },
  {
   "cell_type": "markdown",
   "id": "69d938d7-cedc-4cf8-b168-4ba6c11f44fb",
   "metadata": {},
   "source": [
    "3. Using loops (and potentially conditionals), write Python code that prints the factorial of each integer from 1 through 10 (which you can store in a variable if you want). The factorial of an integer is the product of all of the integers of 1 through the number. Print the result with an appropriate label."
   ]
  },
  {
   "cell_type": "code",
   "execution_count": 89,
   "id": "08446d69-0779-46db-8364-5801558acc98",
   "metadata": {},
   "outputs": [],
   "source": [
    "def factorial(n):\n",
    "    fact = 1\n",
    "    list2 = []\n",
    "    for item in range(1,n+1):\n",
    "        fact *= item\n",
    "        list2 += [fact]\n",
    "    return list2"
   ]
  },
  {
   "cell_type": "code",
   "execution_count": 90,
   "id": "aeab0691-439a-46d3-9f63-23108f53104b",
   "metadata": {},
   "outputs": [
    {
     "data": {
      "text/plain": [
       "[1, 2, 6, 24, 120, 720, 5040, 40320, 362880, 3628800]"
      ]
     },
     "execution_count": 90,
     "metadata": {},
     "output_type": "execute_result"
    }
   ],
   "source": [
    "factorial(10)"
   ]
  },
  {
   "cell_type": "markdown",
   "id": "66e7cd44-b80a-4a21-8bdc-1ff81d661b35",
   "metadata": {},
   "source": [
    "4. Write a python function that takes a single parameter and calculates and returns the average (mean) of the values in the parameter (which you may assume is iterable). Show that your function works by printing the result of calling the function on the list in the cell below."
   ]
  },
  {
   "cell_type": "code",
   "execution_count": 61,
   "id": "f0f21179-d8cb-4eba-9845-e23f23efba5d",
   "metadata": {},
   "outputs": [],
   "source": [
    "testlist = [1,-1,2,-2,3,-3,4,-4]"
   ]
  },
  {
   "cell_type": "code",
   "execution_count": 62,
   "id": "808ac61e-1e88-4bd6-bcc4-f68a19921778",
   "metadata": {},
   "outputs": [],
   "source": [
    "def average (list):\n",
    "    n_sum = 0\n",
    "    count = 0\n",
    "    for n in list:\n",
    "        n_sum += n\n",
    "        count += 1\n",
    "    average = n_sum / count\n",
    "    return average"
   ]
  },
  {
   "cell_type": "code",
   "execution_count": 68,
   "id": "7756c287-c8fc-47fc-9689-c3b4afef6158",
   "metadata": {},
   "outputs": [
    {
     "data": {
      "text/plain": [
       "0.0"
      ]
     },
     "execution_count": 68,
     "metadata": {},
     "output_type": "execute_result"
    }
   ],
   "source": [
    "average(testlist)"
   ]
  },
  {
   "cell_type": "markdown",
   "id": "c7c6fb1d-3db6-460f-95a2-adeb7c2e3854",
   "metadata": {},
   "source": [
    "5. Using your mean function above, write a function that calculates the variance of the list of numbers (see https://en.wikipedia.org/wiki/Variance for more information on the formula). In short:\n",
    "* subtract the mean of the elements in the list from every element in the list; store these values in a new list\n",
    "* square every element in the new list and sum the elements together\n",
    "* divide the resulting number by N (where N is the length of the original list)\n",
    "\n",
    "Show the result of calling your function in the lists in the code cell. You must use one or more list comprehensions or map/filter in your code.\n"
   ]
  },
  {
   "cell_type": "code",
   "execution_count": 114,
   "id": "e15e3298-980a-419b-b44e-e427a6a35022",
   "metadata": {},
   "outputs": [],
   "source": [
    "def variance (list, average):\n",
    "    N = 0\n",
    "    u = average\n",
    "    i_sum = 0\n",
    "    x = []\n",
    "    for item in list:\n",
    "        fact = item - u\n",
    "        x += [fact]\n",
    "    for i in x:\n",
    "        i_sum += i ** 2\n",
    "        N += 1\n",
    "    variance = i_sum / N\n",
    "    return variance"
   ]
  },
  {
   "cell_type": "code",
   "execution_count": 115,
   "id": "ced27d49-a7ed-481b-a7a7-085698bac151",
   "metadata": {},
   "outputs": [
    {
     "data": {
      "text/plain": [
       "7.5"
      ]
     },
     "execution_count": 115,
     "metadata": {},
     "output_type": "execute_result"
    }
   ],
   "source": [
    "variance(testlist, average(testlist))"
   ]
  },
  {
   "cell_type": "markdown",
   "id": "ef48b0f8-9410-43ef-ac1d-91beb7f704be",
   "metadata": {},
   "source": [
    "6. Create a list with at least 15 elements in it. Use list slicing to print the following:\n",
    "* The first 5 elements of the list\n",
    "* The last 5 elements of the list\n",
    "* The list reversed (hint, show the entire list with a stride of -1)\n",
    "* Every second element in the list\n",
    "* Every third element in the list (stride of 3)"
   ]
  },
  {
   "cell_type": "code",
   "execution_count": 118,
   "id": "d60693e7-254b-4289-a39c-895f4851aef3",
   "metadata": {},
   "outputs": [],
   "source": [
    "list6 = [1, 2, 3, 4, 5, 6, 7, 8, 9, 10, 11, 12, 13, 14, 15, 16, 17, 18, 19, 20]"
   ]
  },
  {
   "cell_type": "code",
   "execution_count": 133,
   "id": "5bf65178-99ff-4857-9f88-b57479246ddc",
   "metadata": {},
   "outputs": [
    {
     "name": "stdout",
     "output_type": "stream",
     "text": [
      "[1, 2, 3, 4, 5]\n",
      "[15, 16, 17, 18, 19]\n",
      "[20, 19, 18, 17, 16, 15, 14, 13, 12, 11, 10, 9, 8, 7, 6, 5, 4, 3, 2, 1]\n",
      "[1, 3, 5, 7, 9, 11, 13, 15, 17, 19]\n",
      "[1, 4, 7, 10, 13, 16, 19]\n"
     ]
    }
   ],
   "source": [
    "print(list6[0:5])\n",
    "print(list6[-6:-1])\n",
    "print(list6[::-1])\n",
    "print(list6[::2])\n",
    "print(list6[::3])"
   ]
  },
  {
   "cell_type": "markdown",
   "id": "2ef155a4-ccd5-4324-8a83-fa25a3caa130",
   "metadata": {},
   "source": [
    "7. Build a dictionary that contains the following information about this class (with appropriate names as keys):\n",
    "* The name\n",
    "* The course number\n",
    "* The semester/term in which you are taking this course\n",
    "* The number of credit hours this course counts for\n",
    "* A list of the course learning objectives\n",
    "\n",
    "The majority of this information can be found in the syllabus. Print the dictionary."
   ]
  },
  {
   "cell_type": "code",
   "execution_count": 134,
   "id": "9f2c7ad4-29c9-4225-b180-7372eb9c74f7",
   "metadata": {},
   "outputs": [],
   "source": [
    "dict7 = {'name': 'Web Mining and Applied Natural Language Processing',\n",
    "         'course_number': 44620,\n",
    "         'semester': 'Fall2 2022',\n",
    "         'credits': 3,\n",
    "         'objectives': ['Manage Python libraries and packages', 'Interact with hosted Version Control Systems', \n",
    "                        'Programmatically obtain and transform data from web-based APIs and HTML pages into a useable form',\n",
    "                        'Describe the steps in a basic Natural Language Processing Pipeline',\n",
    "                        'Use preexisting tools and software libraries to perform some NLP',\n",
    "                        'Explain results and conclusions drawn from visualized information']}"
   ]
  },
  {
   "cell_type": "code",
   "execution_count": 137,
   "id": "51261f7d-dcc4-401c-a61f-b8154654f29e",
   "metadata": {},
   "outputs": [
    {
     "name": "stdout",
     "output_type": "stream",
     "text": [
      "{'name': 'Web Mining and Applied Natural Language Processing', 'course_number': 44620, 'semester': 'Fall2 2022', 'credits': 3, 'objectives': ['Manage Python libraries and packages', 'Interact with hosted Version Control Systems', 'Programmatically obtain and transform data from web-based APIs and HTML pages into a useable form', 'Describe the steps in a basic Natural Language Processing Pipeline', 'Use preexisting tools and software libraries to perform some NLP', 'Explain results and conclusions drawn from visualized information']}\n"
     ]
    }
   ],
   "source": [
    "print(dict7)"
   ]
  },
  {
   "cell_type": "markdown",
   "id": "e2456930-f887-4fdd-8252-e22c50e3fdf1",
   "metadata": {},
   "source": [
    "8. Given the dictionary defined in the code cell below, print the list of level 3 spells the character has."
   ]
  },
  {
   "cell_type": "code",
   "execution_count": 138,
   "id": "7d35695a-8c56-41b8-a837-4d3fa056802e",
   "metadata": {},
   "outputs": [],
   "source": [
    "player_character = {'name': 'Kitab',\n",
    "                   'class': [('Cleric: Knowledge', 7)],\n",
    "                   'spells': {'cantrip': ['Guidance', 'Light', 'Thaumaturgy', 'Toll the Dead', 'Word of Radiance'],\n",
    "                             'level 1': ['Command', 'Detect Magic', 'Healing Word', 'Identify', 'Sleep'],\n",
    "                             'level 2': ['Augury', 'Calm Emotions', 'Command', 'Invisibility', 'Lesser Restoration'],\n",
    "                             'level 3': ['Mass Healing Word', 'Nondetection', 'Revivify', 'Feign Death', 'Speak with Dead'],\n",
    "                             'level 4': ['Banishment', 'Confusion']}\n",
    "                   }"
   ]
  },
  {
   "cell_type": "code",
   "execution_count": 156,
   "id": "edc556a9-40a7-4123-850b-a3db61d56d93",
   "metadata": {},
   "outputs": [
    {
     "name": "stdout",
     "output_type": "stream",
     "text": [
      "['Mass Healing Word', 'Nondetection', 'Revivify', 'Feign Death', 'Speak with Dead']\n"
     ]
    }
   ],
   "source": [
    "print(player_character.get('spells', {}).get('level 3'))"
   ]
  },
  {
   "cell_type": "markdown",
   "id": "a3239a0f-7e2b-4173-b580-8d67fa9ddb9c",
   "metadata": {},
   "source": [
    "9. Write code to determine the number of unique elements in the list below.  You MUST use a set in finding your solution.  Print the number of unique values in the list with an appropriate label."
   ]
  },
  {
   "cell_type": "code",
   "execution_count": 159,
   "id": "06b75bb9-92f6-4357-a213-d520f7fdb92c",
   "metadata": {},
   "outputs": [],
   "source": [
    "values = [10, 11, 10, 8, 1, 12, 0, 1, 6, 5, 5, 13, 6, 15, 0, 0, 1, 1, 9, 7]"
   ]
  },
  {
   "cell_type": "code",
   "execution_count": 158,
   "id": "b62f3962-6874-4825-9525-3c4aff306737",
   "metadata": {},
   "outputs": [
    {
     "data": {
      "text/plain": [
       "20"
      ]
     },
     "execution_count": 158,
     "metadata": {},
     "output_type": "execute_result"
    }
   ],
   "source": [
    "len(values)"
   ]
  },
  {
   "cell_type": "code",
   "execution_count": 167,
   "id": "7dae2fc4-d657-4696-899d-eaff3a57d448",
   "metadata": {},
   "outputs": [],
   "source": [
    "x = set(values)"
   ]
  },
  {
   "cell_type": "code",
   "execution_count": 170,
   "id": "4d86caac-278a-4e33-85cd-fbe2d8e050fa",
   "metadata": {},
   "outputs": [
    {
     "name": "stdout",
     "output_type": "stream",
     "text": [
      "12\n"
     ]
    }
   ],
   "source": [
    "print(len(x))"
   ]
  },
  {
   "cell_type": "markdown",
   "id": "d1fb0781-5b7b-4256-b1ec-d7b838a7cec6",
   "metadata": {},
   "source": [
    "10. Create a new Jupyter Notebook (the name of the notebook should be your S number). Add a Markdown cell that contains your name. Add a Code cell and write Python that uses loops to draw the following pattern:\n",
    "\n",
    "```\n",
    "*      *\n",
    "**    **\n",
    "***  ***\n",
    "********\n",
    "```\n",
    "Make sure to add and submit both the new notebook and the changes to this notebook for this assignment."
   ]
  },
  {
   "cell_type": "markdown",
   "id": "88c6da1d-7c08-4851-9182-06748365517a",
   "metadata": {},
   "source": [
    "The following is in another notebook as well, as per the instructions."
   ]
  },
  {
   "cell_type": "code",
   "execution_count": 110,
   "id": "27a860ca-7a55-488c-930d-3b205d1c103b",
   "metadata": {},
   "outputs": [
    {
     "name": "stdout",
     "output_type": "stream",
     "text": [
      "*      *\n",
      "**    **\n",
      "***  ***\n",
      "********\n"
     ]
    }
   ],
   "source": [
    "size = 4\n",
    "for i in range(1, size+1):\n",
    "    # internal loop run for i times\n",
    "    for k in range(1, i+1):\n",
    "        print(\"*\", end=\"\")\n",
    "    for y in (range(2*size-2*i)):\n",
    "        print(\" \", end=\"\")\n",
    "    for z in reversed(range(1, i+1)):\n",
    "        print(\"*\", end=\"\")\n",
    "    print()"
   ]
  }
 ],
 "metadata": {
  "kernelspec": {
   "display_name": "Python 3 (ipykernel)",
   "language": "python",
   "name": "python3"
  },
  "language_info": {
   "codemirror_mode": {
    "name": "ipython",
    "version": 3
   },
   "file_extension": ".py",
   "mimetype": "text/x-python",
   "name": "python",
   "nbconvert_exporter": "python",
   "pygments_lexer": "ipython3",
   "version": "3.9.12"
  }
 },
 "nbformat": 4,
 "nbformat_minor": 5
}
