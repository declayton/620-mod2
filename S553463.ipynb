{
 "cells": [
  {
   "cell_type": "markdown",
   "id": "59fde884-9c41-41a3-b69f-65e496a1b199",
   "metadata": {},
   "source": [
    "Deanna Clayton"
   ]
  },
  {
   "cell_type": "markdown",
   "id": "ef19fea7-cc97-440c-b162-fd58d9938920",
   "metadata": {
    "tags": []
   },
   "source": [
    "10. Create a new Jupyter Notebook (the name of the notebook should be your S number). Add a Markdown cell that contains your name. Add a Code cell and write Python that uses loops to draw the following pattern:\n",
    "\n",
    "```\n",
    "*      *\n",
    "**    **\n",
    "***  ***\n",
    "********\n",
    "```\n",
    "Make sure to add and submit both the new notebook and the changes to this notebook for this assignment."
   ]
  },
  {
   "cell_type": "code",
   "execution_count": 110,
   "id": "a0beaa90-f3c8-4818-b05f-b66ca5301c3e",
   "metadata": {},
   "outputs": [
    {
     "name": "stdout",
     "output_type": "stream",
     "text": [
      "*      *\n",
      "**    **\n",
      "***  ***\n",
      "********\n"
     ]
    }
   ],
   "source": [
    "size = 4\n",
    "for i in range(1, size+1):\n",
    "    # internal loop run for i times\n",
    "    for k in range(1, i+1):\n",
    "        print(\"*\", end=\"\")\n",
    "    for y in (range(2*size-2*i)):\n",
    "        print(\" \", end=\"\")\n",
    "    for z in reversed(range(1, i+1)):\n",
    "        print(\"*\", end=\"\")\n",
    "    print()"
   ]
  }
 ],
 "metadata": {
  "kernelspec": {
   "display_name": "Python 3 (ipykernel)",
   "language": "python",
   "name": "python3"
  },
  "language_info": {
   "codemirror_mode": {
    "name": "ipython",
    "version": 3
   },
   "file_extension": ".py",
   "mimetype": "text/x-python",
   "name": "python",
   "nbconvert_exporter": "python",
   "pygments_lexer": "ipython3",
   "version": "3.9.12"
  }
 },
 "nbformat": 4,
 "nbformat_minor": 5
}
